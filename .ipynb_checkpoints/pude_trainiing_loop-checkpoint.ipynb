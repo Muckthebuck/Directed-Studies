{
 "cells": [
  {
   "cell_type": "code",
   "execution_count": null,
   "metadata": {},
   "outputs": [],
   "source": [
    "import Pude_training_loop.loss_functions_torch as loss_functions\n",
    "import Pude_training_loop.pude_utils as pude_utils\n",
    "import Pude_training_loop.model_training as model_training\n",
    "import Pude_training_loop.dataset_loader as data_loader\n",
    "import Pude_training_loop.physics_parameter_estmation as physics_parameter_estimatior\n",
    "import torch\n",
    "\n",
    "device = \"cuda\" if torch.cuda.is_available() else \"cpu\"\n",
    "\n",
    "raw_image_path = \"Datasets/SeaThru/D5/linearPNG/LFT_3402.png\"\n",
    "actual_depth_path = \"Datasets/SeaThru/D5/depth/depthLFT_3402.tif\"\n",
    "\n",
    "\n",
    "depth_anything_model, depth_anything_image_processor = model_training.get_model_image_processor_pair(model_name=\"depth_anything\", model_path=model_training.models[\"depth_anything\"], device=device)\n",
    "new_pude_model, new_pude_mode_image_processor = model_training.get_model_image_processor_pair(model_name=\"depth_anything\", model_path=model_training.models[\"depth_anything\"], device=device)\n",
    "dataset_loader = data_loader.DatasetLoader() # Initialize dataset loader with default parameters\n",
    "underwater_parameter_estimator = physics_parameter_estimatior.UnderwaterParameterFinder() # Initialize underwater parameter finder with default parameters\n",
    "pude_loss_fn = loss_functions.PUDELoss() # Initialize Pude loss function with default parameters\n",
    "# Define training parameters\n",
    "epochs = 3\n",
    "learning_rate = 1e-5\n",
    "batch_size = 1\n",
    "\n",
    "# Define optimizer\n",
    "optimizer = torch.optim.Adam(new_pude_model.parameters(), lr=learning_rate)\n",
    "\n",
    "new_pude_model.train()\n",
    "\n",
    "for epochs in range(epochs):\n",
    "    for i in range(len(dataset_loader)):\n",
    "        linear_images, non_linear_images = dataset_loader[i]\n",
    "        linear_images = linear_images.to(device)\n",
    "        non_linear_images = non_linear_images.to(device)\n",
    "\n",
    "        # Forward pass\n",
    "        depth_anything_output = model_training.get_model_output(model=depth_anything_model, \n",
    "                                                                image_processor=depth_anything_image_processor, \n",
    "                                                                raw_image=non_linear_images)\n",
    "        \n",
    "        pude_output = model_training.get_model_output(model=new_pude_model, \n",
    "                                                     image_processor=new_pude_mode_image_processor, \n",
    "                                                     raw_image=non_linear_images)\n",
    "        # parameter estimation\n",
    "        hat_nu, hat_mu, hat_B_infty = underwater_parameter_estimator.algorithm_1(d_D=depth_anything_output, I=linear_images)\n",
    "\n",
    "        # Loss calculation\n",
    "        loss = pude_loss_fn(pude_output, depth_anything_output, linear_images, hat_nu, hat_mu, hat_B_infty)\n",
    "\n",
    "        # Backward pass\n",
    "        optimizer.zero_grad()\n",
    "        loss.backward()\n",
    "        optimizer.step()\n",
    "\n",
    "        print(f\"Epoch: {epochs}, Loss: {loss.item()}\")\n"
   ]
  }
 ],
 "metadata": {
  "kernelspec": {
   "display_name": "base",
   "language": "python",
   "name": "python3"
  },
  "language_info": {
   "codemirror_mode": {
    "name": "ipython",
    "version": 3
   },
   "file_extension": ".py",
   "mimetype": "text/x-python",
   "name": "python",
   "nbconvert_exporter": "python",
   "pygments_lexer": "ipython3",
   "version": "3.11.7"
  }
 },
 "nbformat": 4,
 "nbformat_minor": 2
}
