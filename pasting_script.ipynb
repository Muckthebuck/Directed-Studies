{
 "cells": [
  {
   "cell_type": "code",
   "execution_count": 3,
   "metadata": {},
   "outputs": [
    {
     "name": "stdout",
     "output_type": "stream",
     "text": [
      "Collecting pynput\n",
      "  Downloading pynput-1.7.6-py2.py3-none-any.whl (89 kB)\n",
      "     ---------------------------------------- 0.0/89.2 kB ? eta -:--:--\n",
      "     ---------------------------------------- 89.2/89.2 kB 4.9 MB/s eta 0:00:00\n",
      "Requirement already satisfied: six in d:\\mukul\\anaconda3\\lib\\site-packages (from pynput) (1.16.0)\n",
      "Installing collected packages: pynput\n",
      "Successfully installed pynput-1.7.6\n"
     ]
    }
   ],
   "source": [
    "!pip install pynput"
   ]
  },
  {
   "cell_type": "code",
   "execution_count": 24,
   "metadata": {},
   "outputs": [],
   "source": [
    "import time\n",
    "from pynput.keyboard import Key, Controller\n",
    "\n",
    "def type_string(string, duration):\n",
    "    keyboard = Controller()\n",
    "    characters = list(string)\n",
    "    delay = duration/len(characters)\n",
    "    for char in characters:\n",
    "        keyboard.type(char)\n",
    "        time.sleep(delay)\n",
    "# Example usage:\n",
    "start_time = time.time()\n",
    "duration = 25* 60 # min\n",
    "string_to_type = \"\"\"\n",
    "Given an unsorted array of integers, find the length of longest increasing subsequence. Example: Input: nums = [10,9,2,5,3,7,101,18] Output: 4 Explanation: The longest increasing subsequence is [2,3,7,101], therefore the length is 4. Constraints: 1 <= len(nums) <= 2500 -10^4 <= nums[i] <= 10^4 Write a function length_of_lis(nums: List[int]) -> int in Python to solve the problem. Your function should take in a list of integers nums and return an integer representing the length of the longest increasing subsequence.\"\"\"\n",
    "type_string(string_to_type, duration)\n"
   ]
  },
  {
   "cell_type": "code",
   "execution_count": 6,
   "metadata": {},
   "outputs": [
    {
     "ename": "KeyboardInterrupt",
     "evalue": "",
     "output_type": "error",
     "traceback": [
      "\u001b[1;31m---------------------------------------------------------------------------\u001b[0m",
      "\u001b[1;31mKeyboardInterrupt\u001b[0m                         Traceback (most recent call last)",
      "Cell \u001b[1;32mIn[6], line 25\u001b[0m\n\u001b[0;32m     22\u001b[0m pyautogui\u001b[38;5;241m.\u001b[39mmoveTo(randomX, randomY, duration\u001b[38;5;241m=\u001b[39mrandom\u001b[38;5;241m.\u001b[39muniform(\u001b[38;5;241m0.5\u001b[39m, \u001b[38;5;241m1.5\u001b[39m))\n\u001b[0;32m     24\u001b[0m \u001b[38;5;66;03m# Add a delay before the next movement\u001b[39;00m\n\u001b[1;32m---> 25\u001b[0m \u001b[43mtime\u001b[49m\u001b[38;5;241;43m.\u001b[39;49m\u001b[43msleep\u001b[49m\u001b[43m(\u001b[49m\u001b[43mrandom\u001b[49m\u001b[38;5;241;43m.\u001b[39;49m\u001b[43mrandrange\u001b[49m\u001b[43m(\u001b[49m\u001b[38;5;241;43m1\u001b[39;49m\u001b[43m,\u001b[49m\u001b[43m \u001b[49m\u001b[38;5;241;43m5\u001b[39;49m\u001b[43m)\u001b[49m\u001b[43m)\u001b[49m\n",
      "\u001b[1;31mKeyboardInterrupt\u001b[0m: "
     ]
    }
   ],
   "source": [
    "import pyautogui\n",
    "import time\n",
    "import random\n",
    "\n",
    "# Wait for 10 seconds before starting the mouse movement\n",
    "time.sleep(2)\n",
    "\n",
    "# Define the duration of the mouse movement in seconds\n",
    "duration = 10 * 60  # 20 minutes\n",
    "# Get the screen size\n",
    "screenWidth, screenHeight = pyautogui.size()\n",
    "\n",
    "# Start the timer\n",
    "start_time = time.time()\n",
    "\n",
    "while time.time() - start_time < duration:\n",
    "    # Generate random x and y coordinates\n",
    "    randomX = random.randrange(0, screenWidth)\n",
    "    randomY = random.randrange(0, screenHeight)\n",
    "\n",
    "    # Move the mouse cursor to the random position\n",
    "    pyautogui.moveTo(randomX, randomY, duration=random.uniform(0.5, 1.5))\n",
    "\n",
    "    # Add a delay before the next movement\n",
    "    time.sleep(random.randrange(1, 5))"
   ]
  }
 ],
 "metadata": {
  "kernelspec": {
   "display_name": "base",
   "language": "python",
   "name": "python3"
  },
  "language_info": {
   "codemirror_mode": {
    "name": "ipython",
    "version": 3
   },
   "file_extension": ".py",
   "mimetype": "text/x-python",
   "name": "python",
   "nbconvert_exporter": "python",
   "pygments_lexer": "ipython3",
   "version": "3.8.16"
  }
 },
 "nbformat": 4,
 "nbformat_minor": 2
}
